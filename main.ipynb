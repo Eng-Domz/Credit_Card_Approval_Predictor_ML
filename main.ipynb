{
 "cells": [
  {
   "cell_type": "code",
   "execution_count": null,
   "id": "bda2f17a",
   "metadata": {},
   "outputs": [],
   "source": [
    "import pandas as pd\n",
    "import numpy as np\n",
    "from sklearn.model_selection import train_test_split\n",
    "from sklearn.preprocessing import StandardScaler\n",
    "from sklearn.neighbors import KNeighborsClassifier\n",
    "from sklearn.pipeline import Pipeline\n",
    "from sklearn.model_selection import GridSearchCV\n",
    "from sklearn.metrics import accuracy_score\n",
    "from sklearn.linear_model import LogisticRegression\n"
   ]
  },
  {
   "cell_type": "code",
   "execution_count": 58,
   "id": "c24c3b3e",
   "metadata": {},
   "outputs": [
    {
     "name": "stdout",
     "output_type": "stream",
     "text": [
      "  0      1      2  3  4  5  6     7  8  9   10 11   12 13\n",
      "0  b  30.83  0.000  u  g  w  v  1.25  t  t   1  g    0  +\n",
      "1  a  58.67  4.460  u  g  q  h  3.04  t  t   6  g  560  +\n",
      "2  a  24.50  0.500  u  g  q  h  1.50  t  f   0  g  824  +\n",
      "3  b  27.83  1.540  u  g  w  v  3.75  t  t   5  g    3  +\n",
      "4  b  20.17  5.625  u  g  w  v  1.71  t  f   0  s    0  +\n",
      "Missing values dropped\n"
     ]
    }
   ],
   "source": [
    "# Read the dataset and drop missing values\n",
    "data = pd.read_csv('Data/cc_approvals.data', header=None, na_values='?')\n",
    "print(data.head())\n",
    "data = data.dropna()\n",
    "print(\"Missing values dropped\")"
   ]
  },
  {
   "cell_type": "code",
   "execution_count": 59,
   "id": "57842115",
   "metadata": {},
   "outputs": [],
   "source": [
    "# Split data and convert to numpy arrays\n",
    "X = pd.get_dummies(data, columns=[0, 3, 4, 5, 6, 8, 9, 11]).drop(columns=[13]).values\n",
    "y = data[13].values\n",
    "X_train, X_test, y_train, y_test = train_test_split(X, y, test_size=0.2, random_state=42)"
   ]
  },
  {
   "cell_type": "code",
   "execution_count": 60,
   "id": "54cec4c3",
   "metadata": {},
   "outputs": [
    {
     "name": "stdout",
     "output_type": "stream",
     "text": [
      "Best k value:  18\n",
      "Best score:  0.853854447439353\n",
      "Test accuracy: 0.8257575757575758\n"
     ]
    }
   ],
   "source": [
    "# Pipeline with StandardScaler and KNeighborsClassifier\n",
    "pipeline = Pipeline([(\"Scaler\", StandardScaler()), (\"KNN\", KNeighborsClassifier())])\n",
    "\n",
    "# GridSearchCV with pipeline to find the best k value\n",
    "parameters = {\"KNN__n_neighbors\": range(1, 20)}\n",
    "grid_search = GridSearchCV(pipeline, parameters , cv=5)\n",
    "grid_search.fit(X_train, y_train)\n",
    "\n",
    "# Best parameters and score\n",
    "k = grid_search.best_params_['KNN__n_neighbors']\n",
    "print(\"Best k value: \", k)\n",
    "print(\"Best score: \", grid_search.best_score_)\n",
    "\n",
    "# Make predictions\n",
    "y_pred = grid_search.predict(X_test)\n",
    "\n",
    "# Calculate accuracy\n",
    "accuracy = accuracy_score(y_test, y_pred)\n",
    "print(\"Test accuracy:\", accuracy)\n"
   ]
  },
  {
   "cell_type": "code",
   "execution_count": 62,
   "id": "88c928ee",
   "metadata": {},
   "outputs": [
    {
     "name": "stdout",
     "output_type": "stream",
     "text": [
      "Logistic Regression Test accuracy: 0.8484848484848485\n"
     ]
    }
   ],
   "source": [
    "# Logistic Regression pipeline with scaling\n",
    "lr_pipeline = Pipeline([(\"scaler\", StandardScaler()), (\"log_reg\", LogisticRegression(random_state=42 , max_iter=1000))])\n",
    "lr_pipeline.fit(X_train, y_train)\n",
    "\n",
    "# Make predictions with logistic regression\n",
    "y_pred_lr = lr_pipeline.predict(X_test)\n",
    "accuracy_lr = accuracy_score(y_test, y_pred_lr)\n",
    "print(\"Logistic Regression Test accuracy:\", accuracy_lr)"
   ]
  },
  {
   "cell_type": "code",
   "execution_count": 64,
   "id": "6317d993",
   "metadata": {},
   "outputs": [
    {
     "name": "stdout",
     "output_type": "stream",
     "text": [
      "Logistic Regression performs better\n",
      "Best score: 0.8484848484848485\n"
     ]
    }
   ],
   "source": [
    "# Choose the best performing model\n",
    "if accuracy > accuracy_lr:\n",
    "    print(\"KNN performs better\")\n",
    "    best_model = grid_search\n",
    "    best_score = accuracy\n",
    "else:\n",
    "    print(\"Logistic Regression performs better\")\n",
    "    best_model = lr_pipeline\n",
    "    best_score = accuracy_lr\n",
    "\n",
    "\n",
    "print(\"Best score:\", best_score)\n"
   ]
  }
 ],
 "metadata": {
  "kernelspec": {
   "display_name": "creditCard",
   "language": "python",
   "name": "python3"
  },
  "language_info": {
   "codemirror_mode": {
    "name": "ipython",
    "version": 3
   },
   "file_extension": ".py",
   "mimetype": "text/x-python",
   "name": "python",
   "nbconvert_exporter": "python",
   "pygments_lexer": "ipython3",
   "version": "3.13.7"
  }
 },
 "nbformat": 4,
 "nbformat_minor": 5
}
